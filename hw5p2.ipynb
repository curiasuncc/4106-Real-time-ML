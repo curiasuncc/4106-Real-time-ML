{
  "nbformat": 4,
  "nbformat_minor": 0,
  "metadata": {
    "colab": {
      "name": "Untitled2.ipynb",
      "provenance": [],
      "authorship_tag": "ABX9TyNDkG8ilQzl0tSDFw1a2g0k",
      "include_colab_link": true
    },
    "kernelspec": {
      "name": "python3",
      "display_name": "Python 3"
    },
    "language_info": {
      "name": "python"
    }
  },
  "cells": [
    {
      "cell_type": "markdown",
      "metadata": {
        "id": "view-in-github",
        "colab_type": "text"
      },
      "source": [
        "<a href=\"https://colab.research.google.com/github/curiasuncc/4106-Real-time-ML/blob/main/hw5p2.ipynb\" target=\"_parent\"><img src=\"https://colab.research.google.com/assets/colab-badge.svg\" alt=\"Open In Colab\"/></a>"
      ]
    },
    {
      "cell_type": "code",
      "source": [
        "\n",
        "#importing the necessary variables\n",
        "import numpy as np\n",
        "import pandas as pd\n",
        "import matplotlib.pyplot as plt\n",
        "from sklearn.preprocessing import Normalizer\n",
        "from sklearn.preprocessing import StandardScaler\n",
        "from sklearn.model_selection import train_test_split\n",
        "import torch"
      ],
      "metadata": {
        "id": "tpCXFIAXUWQv"
      },
      "execution_count": null,
      "outputs": []
    },
    {
      "cell_type": "code",
      "source": [
        "#training set 436 values (80%)\n",
        "df = pd.read_csv('/content/Housing.csv')\n",
        "df.head() # To get first n rows from the dataset default value of n is 5 \n",
        "TRAIN=len(df) \n",
        "print(TRAIN) \n"
      ],
      "metadata": {
        "id": "rcpC-67UUWUi"
      },
      "execution_count": null,
      "outputs": []
    },
    {
      "cell_type": "code",
      "source": [
        "#df = pd.read_csv('/content/Housing.csv')\n",
        "print(\"CSV File Shape\")\n",
        "print(df.shape)\n",
        "df.head()"
      ],
      "metadata": {
        "id": "dV58bv4BUWJj"
      },
      "execution_count": null,
      "outputs": []
    },
    {
      "cell_type": "code",
      "source": [
        "#area, bedrooms, bathrooms, stories, parking paramaters\n",
        "t0=df.values[:,1] #area\n",
        "t1=df.values[:,2] #bedrooms\n",
        "t2=df.values[:,3] #bathroom\n",
        "t3=df.values[:,4] #stories\n",
        "t4=df.values[:,10] #parking\n",
        "print(t0)"
      ],
      "metadata": {
        "id": "AGA7qpKQVqqv"
      },
      "execution_count": null,
      "outputs": []
    },
    {
      "cell_type": "code",
      "source": [
        "t0.astype(float)\n",
        "print(t0)\n"
      ],
      "metadata": {
        "id": "V2_dgYLzZRuc"
      },
      "execution_count": null,
      "outputs": []
    },
    {
      "cell_type": "code",
      "source": [
        "def training_loop(n_epochs, learning_rate, params, t0, t1,t2,t3,t4):\n",
        "  for epoch in range(1, n_epochs + 1):\n",
        "    w, b = params\n",
        "    t_p = model(t0, t1,t2,t3,t4, w, b)\n",
        "    loss = loss_fn(t_p, t_c)\n",
        "    grad = grad_fn(t0, t1,t2,t3,t4, t_c, t_p, w, b)\n",
        "    params = params - learning_rate * grad\n",
        "    print('Epoch %d, Loss %f' % (epoch, float(loss)))\n",
        "  return params"
      ],
      "metadata": {
        "id": "W3umBwtPa54_"
      },
      "execution_count": null,
      "outputs": []
    },
    {
      "cell_type": "code",
      "source": [
        "#make tensors\n",
        "\n",
        "t_0=torch.tensor(t0)\n",
        "t_1=torch.tensor(t1)\n",
        "t_2=torch.tensor(t2)\n",
        "t_3=torch.tensor(t3)\n",
        "t_4=torch.tensor(t4)"
      ],
      "metadata": {
        "id": "iO5LrfL2WvQi"
      },
      "execution_count": null,
      "outputs": []
    },
    {
      "cell_type": "code",
      "execution_count": null,
      "metadata": {
        "id": "ReZIkW24jmAj"
      },
      "outputs": [],
      "source": [
        "import torch\n",
        "t_c = [0.5, 14.0, 15.0, 28.0, 11.0, 8.0, 3.0, -4.0, 6.0, 13.0, 21.0]\n",
        "t_u = [35.7, 55.9, 58.2, 81.9, 56.3, 48.9, 33.9, 21.8, 48.4, 60.4, 68.4]\n",
        "t_c = torch.tensor(t_c)\n",
        "t_u = torch.tensor(t_u)"
      ]
    },
    {
      "cell_type": "code",
      "source": [
        "def model(t_u, w, b):\n",
        "  #return w * t_u + b\n",
        "  return w * t_u * 2 + w * t_u + b"
      ],
      "metadata": {
        "id": "ipKwRk0ejxW_"
      },
      "execution_count": null,
      "outputs": []
    },
    {
      "cell_type": "code",
      "source": [
        "def loss_fn(t_p, t_c):\n",
        "  squared_diffs = (t_p - t_c)**2\n",
        "  return squared_diffs.mean()"
      ],
      "metadata": {
        "id": "L1AFwUwPjxbF"
      },
      "execution_count": null,
      "outputs": []
    },
    {
      "cell_type": "code",
      "source": [
        "w = torch.ones(())\n",
        "b = torch.zeros(())\n",
        "t_p = model(t_u, w, b)\n",
        "t_p"
      ],
      "metadata": {
        "id": "_r7tNcSnkLAz"
      },
      "execution_count": null,
      "outputs": []
    },
    {
      "cell_type": "code",
      "source": [
        "loss = loss_fn(t_p, t_c)\n",
        "loss"
      ],
      "metadata": {
        "id": "HH6S60DjkLDe"
      },
      "execution_count": null,
      "outputs": []
    },
    {
      "cell_type": "code",
      "source": [
        "x = torch.ones(())\n",
        "y = torch.ones(3,1)\n",
        "z = torch.ones(1,3)\n",
        "a = torch.ones(2, 1, 1)\n",
        "print(f\"shapes: x: {x.shape}, y: {y.shape}\")\n",
        "print(f\" z: {z.shape}, a: {a.shape}\")\n",
        "print(\"x * y:\", (x * y).shape)\n",
        "print(\"y * z:\", (y * z).shape)\n",
        "print(\"y * z * a:\", (y * z * a).shape)"
      ],
      "metadata": {
        "id": "j7Oq9d79lAML"
      },
      "execution_count": null,
      "outputs": []
    },
    {
      "cell_type": "code",
      "source": [
        "delta = 0.1\n",
        "loss_rate_of_change_w = \\\n",
        "(loss_fn(model(t_u, w + delta, b), t_c) -\n",
        "loss_fn(model(t_u, w - delta, b), t_c)) / (2.0 * delta)"
      ],
      "metadata": {
        "id": "cRkWkX2VlBYL"
      },
      "execution_count": null,
      "outputs": []
    },
    {
      "cell_type": "code",
      "source": [
        "learning_rate = 1e-2\n",
        "w = w - learning_rate * loss_rate_of_change_w"
      ],
      "metadata": {
        "id": "OpTzy2DflBbI"
      },
      "execution_count": null,
      "outputs": []
    },
    {
      "cell_type": "code",
      "source": [
        "loss_rate_of_change_b = \\\n",
        "(loss_fn(model(t_u, w, b + delta), t_c) -\n",
        "loss_fn(model(t_u, w, b - delta), t_c)) / (2.0 * delta)\n",
        "b = b - learning_rate * loss_rate_of_change_b"
      ],
      "metadata": {
        "id": "PdIA0weklNN5"
      },
      "execution_count": null,
      "outputs": []
    },
    {
      "cell_type": "code",
      "source": [
        "def dloss_fn(t_p, t_c):\n",
        "  dsq_diffs = 2 * (t_p - t_c) / t_p.size(0)\n",
        "  return dsq_diffs"
      ],
      "metadata": {
        "id": "IQTh3h-8lNV1"
      },
      "execution_count": null,
      "outputs": []
    },
    {
      "cell_type": "code",
      "source": [
        "def dmodel_dw(t_u, w, b):\n",
        "  return t_u"
      ],
      "metadata": {
        "id": "HZMEf3wwlV_N"
      },
      "execution_count": null,
      "outputs": []
    },
    {
      "cell_type": "code",
      "source": [
        "def dmodel_db(t_u, w, b):\n",
        "  return 1.0"
      ],
      "metadata": {
        "id": "qm0U5-cilWB5"
      },
      "execution_count": null,
      "outputs": []
    },
    {
      "cell_type": "code",
      "source": [
        "def grad_fn(t_u, t_c, t_p, w, b):\n",
        "  dloss_dtp = dloss_fn(t_p, t_c)\n",
        "  dloss_dw = dloss_dtp * dmodel_dw(t_u, w, b)\n",
        "  dloss_db = dloss_dtp * dmodel_db(t_u, w, b)\n",
        "  return torch.stack([dloss_dw.sum(), dloss_db.sum()])"
      ],
      "metadata": {
        "id": "tm3dEUQ1lZ4R"
      },
      "execution_count": null,
      "outputs": []
    },
    {
      "cell_type": "code",
      "source": [
        "def training_loop(n_epochs, learning_rate, params, t_u, t_c):\n",
        "  for epoch in range(1, n_epochs + 1):\n",
        "    w, b = params\n",
        "    t_p = model(t_u, w, b)\n",
        "    loss = loss_fn(t_p, t_c)\n",
        "    grad = grad_fn(t_u, t_c, t_p, w, b)\n",
        "    params = params - learning_rate * grad\n",
        "    print('Epoch %d, Loss %f' % (epoch, float(loss)))\n",
        "  return params"
      ],
      "metadata": {
        "id": "YSZPBJX4laAP"
      },
      "execution_count": null,
      "outputs": []
    },
    {
      "cell_type": "code",
      "source": [
        "t_un = 0.1 * t_u\n"
      ],
      "metadata": {
        "id": "Wux-7Y17yiyQ"
      },
      "execution_count": null,
      "outputs": []
    },
    {
      "cell_type": "code",
      "source": [
        "training_loop(\n",
        "n_epochs = 5000,\n",
        "learning_rate = 1e-4,\n",
        "params = torch.tensor([1.0, 0.0]),\n",
        "t_u = t_un,\n",
        "t_c = t_c)"
      ],
      "metadata": {
        "id": "FJKnoGG_lwuq"
      },
      "execution_count": null,
      "outputs": []
    },
    {
      "cell_type": "code",
      "source": [
        "\n",
        "from matplotlib import pyplot as plt\n",
        "t_p = model(t_un, w,b)\n",
        "fig = plt.figure(dpi=600)\n",
        "plt.xlabel(\"Temperature (°Fahrenheit)\")\n",
        "plt.ylabel(\"Temperature (°Celsius)\")\n",
        "plt.plot(t_u.numpy(), t_p.detach().numpy())\n",
        "plt.plot(t_u.numpy(), t_c.numpy(), 'o')"
      ],
      "metadata": {
        "id": "W41fJV-10zWM"
      },
      "execution_count": null,
      "outputs": []
    }
  ]
}