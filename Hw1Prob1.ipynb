{
  "nbformat": 4,
  "nbformat_minor": 0,
  "metadata": {
    "colab": {
      "name": "Untitled1.ipynb",
      "provenance": [],
      "authorship_tag": "ABX9TyPr9r6awKbrpCI/Yn9LswX7",
      "include_colab_link": true
    },
    "kernelspec": {
      "name": "python3",
      "display_name": "Python 3"
    },
    "language_info": {
      "name": "python"
    }
  },
  "cells": [
    {
      "cell_type": "markdown",
      "metadata": {
        "id": "view-in-github",
        "colab_type": "text"
      },
      "source": [
        "<a href=\"https://colab.research.google.com/github/curiasuncc/4106-Real-time-ML/blob/main/Hw1Prob1.ipynb\" target=\"_parent\"><img src=\"https://colab.research.google.com/assets/colab-badge.svg\" alt=\"Open In Colab\"/></a>"
      ]
    },
    {
      "cell_type": "code",
      "execution_count": 11,
      "metadata": {
        "colab": {
          "base_uri": "https://localhost:8080/"
        },
        "id": "7eaB4YprWg95",
        "outputId": "14438d07-9eb9-4494-b5ad-c06938960cc4"
      },
      "outputs": [
        {
          "output_type": "execute_result",
          "data": {
            "text/plain": [
              "(200, 186, 3)"
            ]
          },
          "metadata": {},
          "execution_count": 11
        }
      ],
      "source": [
        "import torch\n",
        "import imageio\n",
        "img_arr = imageio.imread('/content/greenavacado.jpg')\n",
        "img_arr.shape\n"
      ]
    },
    {
      "cell_type": "code",
      "source": [
        "img=torch.from_numpy(img_arr)\n",
        "out=img.permute(2,0,1)\n",
        "out"
      ],
      "metadata": {
        "colab": {
          "base_uri": "https://localhost:8080/"
        },
        "id": "dkpKiMeeWjm4",
        "outputId": "5551fd08-6546-4622-ed00-70e0fb6c850f"
      },
      "execution_count": 21,
      "outputs": [
        {
          "output_type": "execute_result",
          "data": {
            "text/plain": [
              "tensor([[[219, 223, 232,  ..., 255, 255, 255],\n",
              "         [212, 223, 238,  ..., 255, 255, 255],\n",
              "         [214, 230, 248,  ..., 255, 255, 255],\n",
              "         ...,\n",
              "         [225, 229, 232,  ..., 254, 255, 255],\n",
              "         [229, 232, 232,  ..., 254, 255, 255],\n",
              "         [232, 234, 232,  ..., 254, 255, 255]],\n",
              "\n",
              "        [[226, 230, 238,  ..., 255, 255, 255],\n",
              "         [219, 229, 244,  ..., 255, 255, 255],\n",
              "         [220, 236, 253,  ..., 255, 255, 255],\n",
              "         ...,\n",
              "         [226, 230, 233,  ..., 255, 255, 255],\n",
              "         [230, 233, 233,  ..., 255, 255, 255],\n",
              "         [233, 235, 233,  ..., 255, 255, 255]],\n",
              "\n",
              "        [[184, 189, 202,  ..., 255, 255, 255],\n",
              "         [178, 191, 210,  ..., 255, 255, 255],\n",
              "         [184, 202, 223,  ..., 255, 255, 255],\n",
              "         ...,\n",
              "         [220, 224, 227,  ..., 250, 251, 251],\n",
              "         [224, 227, 227,  ..., 250, 251, 251],\n",
              "         [227, 229, 227,  ..., 250, 251, 251]]], dtype=torch.uint8)"
            ]
          },
          "metadata": {},
          "execution_count": 21
        }
      ]
    },
    {
      "cell_type": "code",
      "source": [
        "#make tensor float 32\n",
        "import torch\n",
        "import imageio\n",
        "batch_size = 4\n",
        "batch = torch.zeros(batch_size, 3, 256, 256, dtype=torch.float32)\n",
        "\n",
        "\n",
        "import os\n",
        "data_dir = '/content'\n",
        "filenames = [name for name in os.listdir(data_dir)\n",
        "if os.path.splitext(name)[-1] == '.png']\n",
        "for i, filename in enumerate(filenames): \n",
        "  img_arr = imageio.imread(os.path.join(data_dir, filename))\n",
        "  img_t = torch.from_numpy(img_arr)\n",
        "  img_t = img_t.permute(2, 0, 1)\n",
        "  img_t = img_t[:3]\n",
        "batch[i] = img_t\n",
        "\n",
        "n_channels = batch.shape[1]\n",
        "for c in range(n_channels):\n",
        "  mean = torch.mean(batch[:, c])\n",
        "  std = torch.std(batch[:, c])\n",
        "  batch[:, c] = (batch[:, c] - mean) / std  \n",
        "\n"
      ],
      "metadata": {
        "colab": {
          "base_uri": "https://localhost:8080/",
          "height": 245
        },
        "id": "vgYFPodUWj_R",
        "outputId": "04baac57-e92a-43c1-fbce-867814199af6"
      },
      "execution_count": 47,
      "outputs": [
        {
          "output_type": "error",
          "ename": "RuntimeError",
          "evalue": "ignored",
          "traceback": [
            "\u001b[0;31m---------------------------------------------------------------------------\u001b[0m",
            "\u001b[0;31mRuntimeError\u001b[0m                              Traceback (most recent call last)",
            "\u001b[0;32m<ipython-input-47-350fd3a22ceb>\u001b[0m in \u001b[0;36m<module>\u001b[0;34m()\u001b[0m\n\u001b[1;32m     15\u001b[0m   \u001b[0mimg_t\u001b[0m \u001b[0;34m=\u001b[0m \u001b[0mimg_t\u001b[0m\u001b[0;34m.\u001b[0m\u001b[0mpermute\u001b[0m\u001b[0;34m(\u001b[0m\u001b[0;36m2\u001b[0m\u001b[0;34m,\u001b[0m \u001b[0;36m0\u001b[0m\u001b[0;34m,\u001b[0m \u001b[0;36m1\u001b[0m\u001b[0;34m)\u001b[0m\u001b[0;34m\u001b[0m\u001b[0;34m\u001b[0m\u001b[0m\n\u001b[1;32m     16\u001b[0m   \u001b[0mimg_t\u001b[0m \u001b[0;34m=\u001b[0m \u001b[0mimg_t\u001b[0m\u001b[0;34m[\u001b[0m\u001b[0;34m:\u001b[0m\u001b[0;36m3\u001b[0m\u001b[0;34m]\u001b[0m\u001b[0;34m\u001b[0m\u001b[0;34m\u001b[0m\u001b[0m\n\u001b[0;32m---> 17\u001b[0;31m   \u001b[0mbatch\u001b[0m\u001b[0;34m[\u001b[0m\u001b[0mi\u001b[0m\u001b[0;34m]\u001b[0m \u001b[0;34m=\u001b[0m \u001b[0mimg_t\u001b[0m\u001b[0;34m\u001b[0m\u001b[0;34m\u001b[0m\u001b[0m\n\u001b[0m\u001b[1;32m     18\u001b[0m \u001b[0;34m\u001b[0m\u001b[0m\n\u001b[1;32m     19\u001b[0m   \u001b[0mn_channels\u001b[0m \u001b[0;34m=\u001b[0m \u001b[0mbatch\u001b[0m\u001b[0;34m.\u001b[0m\u001b[0mshape\u001b[0m\u001b[0;34m[\u001b[0m\u001b[0;36m1\u001b[0m\u001b[0;34m]\u001b[0m\u001b[0;34m\u001b[0m\u001b[0;34m\u001b[0m\u001b[0m\n",
            "\u001b[0;31mRuntimeError\u001b[0m: The expanded size of the tensor (256) must match the existing size (186) at non-singleton dimension 2.  Target sizes: [3, 256, 256].  Tensor sizes: [3, 200, 186]"
          ]
        }
      ]
    },
    {
      "cell_type": "code",
      "source": [
        "n_channels = batch.shape[1]\n",
        "for c in range(n_channels):\n",
        " mean = torch.mean(batch[:, c])\n",
        "std = torch.std(batch[:, c])\n",
        "batch[:, c] = (batch[:, c] - mean) / std\n",
        "batch"
      ],
      "metadata": {
        "colab": {
          "base_uri": "https://localhost:8080/"
        },
        "id": "KGGzABO1fs9M",
        "outputId": "fe1aac66-8518-40ae-9624-0f9fb3bdf987"
      },
      "execution_count": 49,
      "outputs": [
        {
          "output_type": "execute_result",
          "data": {
            "text/plain": [
              "tensor([[[[0., 0., 0.,  ..., 0., 0., 0.],\n",
              "          [0., 0., 0.,  ..., 0., 0., 0.],\n",
              "          [0., 0., 0.,  ..., 0., 0., 0.],\n",
              "          ...,\n",
              "          [0., 0., 0.,  ..., 0., 0., 0.],\n",
              "          [0., 0., 0.,  ..., 0., 0., 0.],\n",
              "          [0., 0., 0.,  ..., 0., 0., 0.]],\n",
              "\n",
              "         [[0., 0., 0.,  ..., 0., 0., 0.],\n",
              "          [0., 0., 0.,  ..., 0., 0., 0.],\n",
              "          [0., 0., 0.,  ..., 0., 0., 0.],\n",
              "          ...,\n",
              "          [0., 0., 0.,  ..., 0., 0., 0.],\n",
              "          [0., 0., 0.,  ..., 0., 0., 0.],\n",
              "          [0., 0., 0.,  ..., 0., 0., 0.]],\n",
              "\n",
              "         [[nan, nan, nan,  ..., nan, nan, nan],\n",
              "          [nan, nan, nan,  ..., nan, nan, nan],\n",
              "          [nan, nan, nan,  ..., nan, nan, nan],\n",
              "          ...,\n",
              "          [nan, nan, nan,  ..., nan, nan, nan],\n",
              "          [nan, nan, nan,  ..., nan, nan, nan],\n",
              "          [nan, nan, nan,  ..., nan, nan, nan]]],\n",
              "\n",
              "\n",
              "        [[[0., 0., 0.,  ..., 0., 0., 0.],\n",
              "          [0., 0., 0.,  ..., 0., 0., 0.],\n",
              "          [0., 0., 0.,  ..., 0., 0., 0.],\n",
              "          ...,\n",
              "          [0., 0., 0.,  ..., 0., 0., 0.],\n",
              "          [0., 0., 0.,  ..., 0., 0., 0.],\n",
              "          [0., 0., 0.,  ..., 0., 0., 0.]],\n",
              "\n",
              "         [[0., 0., 0.,  ..., 0., 0., 0.],\n",
              "          [0., 0., 0.,  ..., 0., 0., 0.],\n",
              "          [0., 0., 0.,  ..., 0., 0., 0.],\n",
              "          ...,\n",
              "          [0., 0., 0.,  ..., 0., 0., 0.],\n",
              "          [0., 0., 0.,  ..., 0., 0., 0.],\n",
              "          [0., 0., 0.,  ..., 0., 0., 0.]],\n",
              "\n",
              "         [[nan, nan, nan,  ..., nan, nan, nan],\n",
              "          [nan, nan, nan,  ..., nan, nan, nan],\n",
              "          [nan, nan, nan,  ..., nan, nan, nan],\n",
              "          ...,\n",
              "          [nan, nan, nan,  ..., nan, nan, nan],\n",
              "          [nan, nan, nan,  ..., nan, nan, nan],\n",
              "          [nan, nan, nan,  ..., nan, nan, nan]]],\n",
              "\n",
              "\n",
              "        [[[0., 0., 0.,  ..., 0., 0., 0.],\n",
              "          [0., 0., 0.,  ..., 0., 0., 0.],\n",
              "          [0., 0., 0.,  ..., 0., 0., 0.],\n",
              "          ...,\n",
              "          [0., 0., 0.,  ..., 0., 0., 0.],\n",
              "          [0., 0., 0.,  ..., 0., 0., 0.],\n",
              "          [0., 0., 0.,  ..., 0., 0., 0.]],\n",
              "\n",
              "         [[0., 0., 0.,  ..., 0., 0., 0.],\n",
              "          [0., 0., 0.,  ..., 0., 0., 0.],\n",
              "          [0., 0., 0.,  ..., 0., 0., 0.],\n",
              "          ...,\n",
              "          [0., 0., 0.,  ..., 0., 0., 0.],\n",
              "          [0., 0., 0.,  ..., 0., 0., 0.],\n",
              "          [0., 0., 0.,  ..., 0., 0., 0.]],\n",
              "\n",
              "         [[nan, nan, nan,  ..., nan, nan, nan],\n",
              "          [nan, nan, nan,  ..., nan, nan, nan],\n",
              "          [nan, nan, nan,  ..., nan, nan, nan],\n",
              "          ...,\n",
              "          [nan, nan, nan,  ..., nan, nan, nan],\n",
              "          [nan, nan, nan,  ..., nan, nan, nan],\n",
              "          [nan, nan, nan,  ..., nan, nan, nan]]],\n",
              "\n",
              "\n",
              "        [[[0., 0., 0.,  ..., 0., 0., 0.],\n",
              "          [0., 0., 0.,  ..., 0., 0., 0.],\n",
              "          [0., 0., 0.,  ..., 0., 0., 0.],\n",
              "          ...,\n",
              "          [0., 0., 0.,  ..., 0., 0., 0.],\n",
              "          [0., 0., 0.,  ..., 0., 0., 0.],\n",
              "          [0., 0., 0.,  ..., 0., 0., 0.]],\n",
              "\n",
              "         [[0., 0., 0.,  ..., 0., 0., 0.],\n",
              "          [0., 0., 0.,  ..., 0., 0., 0.],\n",
              "          [0., 0., 0.,  ..., 0., 0., 0.],\n",
              "          ...,\n",
              "          [0., 0., 0.,  ..., 0., 0., 0.],\n",
              "          [0., 0., 0.,  ..., 0., 0., 0.],\n",
              "          [0., 0., 0.,  ..., 0., 0., 0.]],\n",
              "\n",
              "         [[nan, nan, nan,  ..., nan, nan, nan],\n",
              "          [nan, nan, nan,  ..., nan, nan, nan],\n",
              "          [nan, nan, nan,  ..., nan, nan, nan],\n",
              "          ...,\n",
              "          [nan, nan, nan,  ..., nan, nan, nan],\n",
              "          [nan, nan, nan,  ..., nan, nan, nan],\n",
              "          [nan, nan, nan,  ..., nan, nan, nan]]]])"
            ]
          },
          "metadata": {},
          "execution_count": 49
        }
      ]
    }
  ]
}